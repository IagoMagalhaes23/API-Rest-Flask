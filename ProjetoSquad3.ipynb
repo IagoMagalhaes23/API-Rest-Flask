{
  "cells": [
    {
      "cell_type": "markdown",
      "metadata": {
        "id": "view-in-github",
        "colab_type": "text"
      },
      "source": [
        "<a href=\"https://colab.research.google.com/github/IagoMagalhaes23/API-Rest-Flask/blob/main/ProjetoSquad3.ipynb\" target=\"_parent\"><img src=\"https://colab.research.google.com/assets/colab-badge.svg\" alt=\"Open In Colab\"/></a>"
      ]
    },
    {
      "cell_type": "markdown",
      "metadata": {
        "id": "_5ZEGr_BVq2v"
      },
      "source": [
        "#Projeto de classificação de pacientes saúdaveis ou com Covid-19"
      ]
    },
    {
      "cell_type": "markdown",
      "metadata": {
        "id": "1ZwIOZHGVyPA"
      },
      "source": [
        "##Instalação de bibliotecas"
      ]
    },
    {
      "cell_type": "code",
      "execution_count": null,
      "metadata": {
        "id": "sWbTDVLiV-_J"
      },
      "outputs": [],
      "source": []
    },
    {
      "cell_type": "markdown",
      "metadata": {
        "id": "7dNIGWDhVuhv"
      },
      "source": [
        "##Importação das bibliotecas"
      ]
    },
    {
      "cell_type": "code",
      "execution_count": null,
      "metadata": {
        "id": "8xldzxBmV_Vl"
      },
      "outputs": [],
      "source": [
        "import os\n",
        "import glob\n",
        "import zipfile\n",
        "import cv2 as cv\n",
        "import numpy as np\n",
        "import pandas as pd\n",
        "import matplotlib.pyplot as plt\n",
        "\n",
        "from sklearn.decomposition import PCA\n",
        "from sklearn.model_selection import train_test_split, GridSearchCV\n",
        "from sklearn.neighbors import KNeighborsClassifier\n",
        "\n",
        "from google.colab import drive"
      ]
    },
    {
      "cell_type": "markdown",
      "metadata": {
        "id": "6jClOxpUV_3m"
      },
      "source": [
        "##Carregando arquivos do Google Drive"
      ]
    },
    {
      "cell_type": "code",
      "execution_count": null,
      "metadata": {
        "colab": {
          "base_uri": "https://localhost:8080/"
        },
        "id": "m-kPwrPDWFCW",
        "outputId": "ed4b8da6-1aac-41ea-da87-d1598853ba75"
      },
      "outputs": [
        {
          "output_type": "stream",
          "name": "stdout",
          "text": [
            "Mounted at /content/gdrive\n"
          ]
        }
      ],
      "source": [
        "drive.mount('/content/gdrive')"
      ]
    },
    {
      "cell_type": "code",
      "source": [
        "from google.colab import drive\n",
        "drive.mount('/content/drive')"
      ],
      "metadata": {
        "id": "qvN7PjNpq09a"
      },
      "execution_count": null,
      "outputs": []
    },
    {
      "cell_type": "markdown",
      "metadata": {
        "id": "lkEx6o6scoLu"
      },
      "source": [
        "###Lendo arquivos"
      ]
    },
    {
      "cell_type": "code",
      "execution_count": null,
      "metadata": {
        "id": "WCSXwdzecrpI"
      },
      "outputs": [],
      "source": [
        "endereco = '/content/gdrive/MyDrive/Squad 3 - Instituto Atlântico/imagens-covid19.zip' #endereço no drive do Iago\n",
        "#enderco = '' #Adicione o endereço do seu drive\n",
        "\n",
        "zip_object = zipfile.ZipFile(file=endereco, mode='r')\n",
        "zip_object.extractall('./')\n",
        "zip_object.close\n",
        "\n",
        "train = 'train/'\n",
        "test = 'test/'"
      ]
    },
    {
      "cell_type": "code",
      "execution_count": null,
      "metadata": {
        "id": "XkNQbVSid7hx"
      },
      "outputs": [],
      "source": [
        "def readDir(diretorio):\n",
        "    \"\"\"\n",
        "        Função para listagem de imagens\n",
        "        :param diretorio: enedereço do diretório\n",
        "    \"\"\"\n",
        "    listaimgs = os.listdir(diretorio)\n",
        "    return listaimgs"
      ]
    },
    {
      "cell_type": "code",
      "execution_count": null,
      "metadata": {
        "id": "9bN5jjaCfugE"
      },
      "outputs": [],
      "source": [
        "def readImage(local, listaimgs):\n",
        "    \"\"\"\n",
        "        Função para leitura de imagens\n",
        "        :param local: pasta das imagens\n",
        "        :param listaimgs: nomes das imagens\n",
        "    \"\"\"\n",
        "    imagens = []\n",
        "    for i in listaimgs:\n",
        "        imagens.append(cv.imread(local+i))\n",
        "    \n",
        "    return imagens"
      ]
    },
    {
      "cell_type": "markdown",
      "metadata": {
        "id": "paGXz3o1ea4l"
      },
      "source": [
        "##Funções básicas"
      ]
    },
    {
      "cell_type": "code",
      "execution_count": null,
      "metadata": {
        "id": "5dU8_XBhec8H"
      },
      "outputs": [],
      "source": [
        "def mostrar_imagemRGB(imagem):\n",
        "  imagem_rgb = cv.cvtColor(imagem, cv.COLOR_BGR2RGB)\n",
        "  plt.imshow(imagem_rgb)"
      ]
    },
    {
      "cell_type": "code",
      "execution_count": null,
      "metadata": {
        "id": "CAun2D89emA8"
      },
      "outputs": [],
      "source": [
        "def mostrar_imagemGRAY(imagem):\n",
        "  imagem_gray = cv.cvtColor(imagem, cv.COLOR_BGR2GRAY)\n",
        "  plt.imshow(imagem_gray)"
      ]
    },
    {
      "cell_type": "code",
      "execution_count": null,
      "metadata": {
        "id": "TwQp-lybe3mD"
      },
      "outputs": [],
      "source": [
        "def mostrar_imagem(imagem):\n",
        "  plt.imshow(imagem)"
      ]
    },
    {
      "cell_type": "markdown",
      "metadata": {
        "id": "b7zNiFJqWFY2"
      },
      "source": [
        "##Aplicando Pré-processamentos"
      ]
    },
    {
      "cell_type": "code",
      "execution_count": null,
      "metadata": {
        "id": "wxPwIhrxWJzL"
      },
      "outputs": [],
      "source": [
        "imagens = readDir(train)\n",
        "img = readImage(train, imagens)"
      ]
    },
    {
      "cell_type": "markdown",
      "metadata": {
        "id": "jgBAf2baGu-4"
      },
      "source": [
        "###Pipeline 1"
      ]
    },
    {
      "cell_type": "code",
      "execution_count": null,
      "metadata": {
        "id": "ajkiwZUYePHw"
      },
      "outputs": [],
      "source": [
        "def pipeline1(imagem):\n",
        "    \"\"\"\n",
        "        Função para realizar a pipeline 1\n",
        "        :param imagem: imagem de entrada\n",
        "        Descrição:\n",
        "            - Converte a imagem para tons de cinza\n",
        "            - Redimensiona a imagem para 196 por 196\n",
        "            - Recorta a imagem, objetivando remover o diafragma\n",
        "            - Aplica o filtro de mediana\n",
        "            - Aplica uma erosão a imagem\n",
        "    \"\"\"\n",
        "    imagem = cv.cvtColor(imagem, cv.COLOR_RGB2GRAY)\n",
        "    imagem = cv.resize(imagem, (196, 196))\n",
        "    imagem = imagem[0:170, :]\n",
        "    imagem = cv.medianBlur(imagem, 5)\n",
        "\n",
        "    elementoEstruturante = cv.getStructuringElement(cv.MORPH_ELLIPSE, (5,5))\n",
        "    imagem = cv.dilate(imagem, elementoEstruturante, iterations=2)\n",
        "\n",
        "    return imagem"
      ]
    },
    {
      "cell_type": "markdown",
      "metadata": {
        "id": "hziqLq7lhURM"
      },
      "source": [
        "####Paciente saudável"
      ]
    },
    {
      "cell_type": "code",
      "execution_count": null,
      "metadata": {
        "id": "r6QW1emLeP1K"
      },
      "outputs": [],
      "source": [
        "resultado = pipeline1(img[0])\n",
        "print(imagens[0])\n",
        "mostrar_imagemRGB(resultado)"
      ]
    },
    {
      "cell_type": "markdown",
      "metadata": {
        "id": "2jHE2jczhgSb"
      },
      "source": [
        "####Paciente não saudável"
      ]
    },
    {
      "cell_type": "code",
      "execution_count": null,
      "metadata": {
        "id": "8RrhkMeSg2VY"
      },
      "outputs": [],
      "source": [
        "resultado = pipeline1(img[1])\n",
        "print(imagens[1])\n",
        "mostrar_imagemRGB(resultado)"
      ]
    },
    {
      "cell_type": "markdown",
      "metadata": {
        "id": "DwcVP74rG0CN"
      },
      "source": [
        "###Pipeline 2"
      ]
    },
    {
      "cell_type": "code",
      "execution_count": null,
      "metadata": {
        "id": "1m_yIpJeG164"
      },
      "outputs": [],
      "source": [
        "def pipeline2(imagem):\n",
        "    \"\"\"\n",
        "        Função para realizar a pipeline 2\n",
        "        :param imagem: imagem de entrada\n",
        "        Descrição:\n",
        "            - Converte a imagem para tons de cinza\n",
        "            - Redimensiona a imagem para 196 por 196\n",
        "            - Aplica o detector de borda canny\n",
        "    \"\"\"\n",
        "    imagem = cv.cvtColor(imagem, cv.COLOR_RGB2GRAY)\n",
        "    imagem = cv.resize(imagem, (196, 196))\n",
        "    imagem = cv.Canny(imagem, 5, 10)\n",
        "\n",
        "    return imagem"
      ]
    },
    {
      "cell_type": "markdown",
      "metadata": {
        "id": "cqx7uPsFhYN5"
      },
      "source": [
        "####Paciente saudável"
      ]
    },
    {
      "cell_type": "code",
      "execution_count": null,
      "metadata": {
        "id": "BiyTHVcjhBfT"
      },
      "outputs": [],
      "source": [
        "resultado = pipeline2(img[0])\n",
        "print(imagens[0])\n",
        "mostrar_imagemRGB(resultado)"
      ]
    },
    {
      "cell_type": "markdown",
      "metadata": {
        "id": "p_QntAJrhejj"
      },
      "source": [
        "####Paciente não saudável"
      ]
    },
    {
      "cell_type": "code",
      "execution_count": null,
      "metadata": {
        "id": "xQLi6GqmhCkY"
      },
      "outputs": [],
      "source": [
        "resultado = pipeline2(img[1])\n",
        "print(imagens[1])\n",
        "mostrar_imagemRGB(resultado)"
      ]
    },
    {
      "cell_type": "markdown",
      "metadata": {
        "id": "Arw3NxXCG2X0"
      },
      "source": [
        "###Pipeline 3"
      ]
    },
    {
      "cell_type": "code",
      "execution_count": null,
      "metadata": {
        "id": "FFz0OUkIG4T9"
      },
      "outputs": [],
      "source": [
        "def pipeline3(imagem):\n",
        "    \"\"\"\n",
        "        Função para realizar a pipeline 3\n",
        "        :param imagem: imagem de entrada\n",
        "        Descrição:\n",
        "            - Converte a imagem para tons de cinza\n",
        "            - Redimensiona a imagem para 196 por 196\n",
        "            - Aplica o filtro de gaussiano\n",
        "    \"\"\"\n",
        "    imagem = cv.cvtColor(imagem, cv.COLOR_RGB2GRAY)\n",
        "    imagem = cv.resize(imagem, (196, 196))\n",
        "    imagem = cv.GaussianBlur(imagem, (5,5), 0)\n",
        "\n",
        "    return imagem"
      ]
    },
    {
      "cell_type": "markdown",
      "metadata": {
        "id": "WfZxHv2MhZlj"
      },
      "source": [
        "####Paciente saudável"
      ]
    },
    {
      "cell_type": "code",
      "execution_count": null,
      "metadata": {
        "id": "6blzIqcYhPLM"
      },
      "outputs": [],
      "source": [
        "resultado = pipeline3(img[0])\n",
        "print(imagens[0])\n",
        "mostrar_imagemRGB(resultado)"
      ]
    },
    {
      "cell_type": "markdown",
      "metadata": {
        "id": "vnTwg1wsha0s"
      },
      "source": [
        "####Paciente não saudável"
      ]
    },
    {
      "cell_type": "code",
      "execution_count": null,
      "metadata": {
        "id": "H7JBPjHxhOKj"
      },
      "outputs": [],
      "source": [
        "resultado = pipeline3(img[1])\n",
        "print(imagens[1])\n",
        "mostrar_imagemRGB(resultado)"
      ]
    },
    {
      "cell_type": "markdown",
      "metadata": {
        "id": "E-5EI6mbG4t-"
      },
      "source": [
        "###Pipeline 4"
      ]
    },
    {
      "cell_type": "code",
      "execution_count": null,
      "metadata": {
        "id": "fWfdOVzPG6i2"
      },
      "outputs": [],
      "source": [
        "def pipeline4(image):\n",
        "    \"\"\"\n",
        "        Função para realizar a pipeline 4\n",
        "        :param imagem: imagem de entrada\n",
        "        Descrição:\n",
        "            - Converte a imagem para tons de cinza\n",
        "            - Redimensiona a imagem para 196 por 196\n",
        "            - Recorta a imagem, objetivando remover o diafragma\n",
        "            - Aplicar a equalização de histograma\n",
        "            - Aplica o filtro de gaussiano\n",
        "            - Aplicando Thershold adaptativo \n",
        "\n",
        "    \"\"\"\n",
        "    imagem = cv.cvtColor(image, cv.COLOR_RGB2GRAY)\n",
        "    imagem = cv.resize(imagem, (196, 196))\n",
        "    imagem = imagem[0:170, :]\n",
        "    imagem = cv.equalizeHist(imagem)\n",
        "    imagem = cv.GaussianBlur(imagem, (5,5), 0)\n",
        "    thresh1 = cv.adaptiveThreshold(imagem, 255, cv.ADAPTIVE_THRESH_MEAN_C, cv.THRESH_BINARY, 199, 5)\n",
        "    thresh2 = cv.adaptiveThreshold(imagem, 255, cv.ADAPTIVE_THRESH_GAUSSIAN_C, cv.THRESH_BINARY, 199, 5)\n",
        "       \n",
        "    return thresh2"
      ]
    },
    {
      "cell_type": "code",
      "execution_count": null,
      "metadata": {
        "id": "5o-O4IlweYe5"
      },
      "outputs": [],
      "source": [
        "resultado = pipeline4(img[0])\n",
        "print(imagens[0])"
      ]
    },
    {
      "cell_type": "markdown",
      "source": [
        "####Paciente saudável"
      ],
      "metadata": {
        "id": "BKpwr1Z2Buhh"
      }
    },
    {
      "cell_type": "code",
      "source": [
        "resultado = pipeline4(img[1])\n",
        "print(imagens[1])\n",
        "mostrar_imagemRGB(resultado)"
      ],
      "metadata": {
        "id": "Atjy_gAMBw_e",
        "colab": {
          "base_uri": "https://localhost:8080/",
          "height": 286
        },
        "outputId": "263b6f2f-2e96-476d-9932-5c43f0e23101"
      },
      "execution_count": null,
      "outputs": [
        {
          "output_type": "stream",
          "name": "stdout",
          "text": [
            "51_0.jpg\n"
          ]
        },
        {
          "output_type": "display_data",
          "data": {
            "text/plain": [
              "<Figure size 432x288 with 1 Axes>"
            ],
            "image/png": "[encoded data removed]"
          },
          "metadata": {
            "needs_background": "light"
          }
        }
      ]
    },
    {
      "cell_type": "markdown",
      "source": [
        "####Paciente não saudável"
      ],
      "metadata": {
        "id": "MKhJqfotBxQR"
      }
    },
    {
      "cell_type": "code",
      "execution_count": null,
      "metadata": {
        "id": "wLWD1yHrer_S"
      },
      "outputs": [],
      "source": [
        "resultado = pipeline4(img[0])\n",
        "print(imagens[0])\n",
        "mostrar_imagemRGB(resultado)"
      ]
    },
    {
      "cell_type": "markdown",
      "metadata": {
        "id": "XbjVG3KuNYfv"
      },
      "source": [
        "##Criando base de dados"
      ]
    },
    {
      "cell_type": "code",
      "execution_count": null,
      "metadata": {
        "id": "QfnNsRD0NaO2"
      },
      "outputs": [],
      "source": [
        "def carrega_data(listaimgs, imagens):\n",
        "  i = 0\n",
        "  amostras = []\n",
        "  classe = []\n",
        "  for img in listaimgs:\n",
        "    amostras.append(imagens[i])\n",
        "    clas = img.split('_')\n",
        "    classe.append(clas[1][0])\n",
        "    i = i + 1\n",
        "  return amostras, classe"
      ]
    },
    {
      "cell_type": "code",
      "source": [
        "amostras, classe = carrega_data(imagens, img)"
      ],
      "metadata": {
        "id": "AHJB46SQ2DNr"
      },
      "execution_count": null,
      "outputs": []
    },
    {
      "cell_type": "code",
      "execution_count": null,
      "metadata": {
        "id": "10MJdBSXUIBc"
      },
      "outputs": [],
      "source": [
        "X_train, X_test, y_train, y_test = train_test_split(amostras, classe, train_size=0.3, random_state=42)"
      ]
    },
    {
      "cell_type": "code",
      "source": [
        "for i in range(len(X_train)):\n",
        "  X_train[i] = X_train[i].reshape(1,-1)\n",
        "\n",
        "for i in range(len(X_test)):\n",
        "  X_test[i] = X_test[i].reshape(1,-1)"
      ],
      "metadata": {
        "id": "vEf5yFtCJILH"
      },
      "execution_count": null,
      "outputs": []
    },
    {
      "cell_type": "markdown",
      "metadata": {
        "id": "JqRkENYGW2pe"
      },
      "source": [
        "##Extraindo características"
      ]
    },
    {
      "cell_type": "code",
      "source": [
        "#criar coluna com hist das imagens\n",
        "import matplotlib.pyplot as plt\n",
        "from sklearn.preprocessing import MaxAbsScaler\n",
        "\n",
        "def hist(images):\n",
        "  hists = []\n",
        "  for arq in images:\n",
        "    hist = plt.hist(arq.ravel(), bins=256)\n",
        "    hists.append(hist[0])\n",
        "  return hists\n",
        "\n",
        "print(hist(dados['IMAGEM']))\n",
        "\n",
        "# dados['HIST'] = hist(dados['IMAGEM'])"
      ],
      "metadata": {
        "id": "4Wr2JSfQ-DvX"
      },
      "execution_count": null,
      "outputs": []
    },
    {
      "cell_type": "code",
      "source": [],
      "metadata": {
        "id": "LEyKZoh09wiG"
      },
      "execution_count": null,
      "outputs": []
    },
    {
      "cell_type": "markdown",
      "metadata": {
        "id": "tRMmhCqWW6L8"
      },
      "source": [
        "##Classificação com algoritmos de Machine Learning"
      ]
    },
    {
      "cell_type": "markdown",
      "metadata": {
        "id": "3evcXbHjYXJv"
      },
      "source": [
        "###Algoritmo KNN"
      ]
    },
    {
      "cell_type": "code",
      "execution_count": null,
      "metadata": {
        "id": "xrAjfw4NXAK9"
      },
      "outputs": [],
      "source": [
        "parametros = {\n",
        "    \"n_neighbors\": [2, 3],\n",
        "    \"metric\": [\"euclidean\", \"manhattam\"]\n",
        "}\n",
        "\n",
        "knn = GridSearchCV(KNeighborsClassifier(), parametros)\n",
        "\n",
        "knn.fit(X_train, y_train)"
      ]
    },
    {
      "cell_type": "code",
      "source": [
        "knn.score(X=X_test, y=y_test)"
      ],
      "metadata": {
        "id": "cI6k5x4ZCoh4"
      },
      "execution_count": null,
      "outputs": []
    },
    {
      "cell_type": "code",
      "source": [
        "predicao = knn.predict(X_test)\n",
        "\n",
        "verdadeiros_positivos, falsos_positivos, falsos_negativos, verdadeiros_negativos = confusion_matrix(y_test, predicao).ravel()"
      ],
      "metadata": {
        "id": "6sr6Up0TCpKh"
      },
      "execution_count": null,
      "outputs": []
    },
    {
      "cell_type": "code",
      "source": [
        "verdadeiros_positivos, verdadeiros_negativos"
      ],
      "metadata": {
        "id": "DbHvibU0Cx41"
      },
      "execution_count": null,
      "outputs": []
    },
    {
      "cell_type": "code",
      "source": [
        "falsos_positivos, falsos_negativos"
      ],
      "metadata": {
        "id": "pHBTIMOACycP"
      },
      "execution_count": null,
      "outputs": []
    },
    {
      "cell_type": "code",
      "source": [],
      "metadata": {
        "id": "lDJWz6HO8YI3"
      },
      "execution_count": null,
      "outputs": []
    },
    {
      "cell_type": "markdown",
      "metadata": {
        "id": "Nb8cFu86YavB"
      },
      "source": [
        "###Algoritmo MLP"
      ]
    },
    {
      "cell_type": "code",
      "execution_count": null,
      "metadata": {
        "id": "7jQY8nFCYd14"
      },
      "outputs": [],
      "source": []
    },
    {
      "cell_type": "markdown",
      "metadata": {
        "id": "IaPjQhX2YeQ_"
      },
      "source": [
        "###Algoritmo SVM"
      ]
    },
    {
      "cell_type": "code",
      "execution_count": null,
      "metadata": {
        "id": "bZWTq-TMYhtQ"
      },
      "outputs": [],
      "source": []
    },
    {
      "cell_type": "markdown",
      "metadata": {
        "id": "NL4AbYCkXAdL"
      },
      "source": [
        "##Classificação com algoritmos de Deep Learning"
      ]
    },
    {
      "cell_type": "markdown",
      "metadata": {
        "id": "rvzGkezoZCDy"
      },
      "source": [
        "###VGG16"
      ]
    },
    {
      "cell_type": "code",
      "execution_count": null,
      "metadata": {
        "id": "G0UBzte-XFIu"
      },
      "outputs": [],
      "source": []
    },
    {
      "cell_type": "markdown",
      "metadata": {
        "id": "TNV7nMmuZExq"
      },
      "source": [
        "###Inception V3"
      ]
    },
    {
      "cell_type": "code",
      "execution_count": null,
      "metadata": {
        "id": "25e4BqzaZG0P"
      },
      "outputs": [],
      "source": []
    },
    {
      "cell_type": "code",
      "source": [
        "data , label = load_data('dataset/geometric',['circle','square','star','triangle'])"
      ],
      "metadata": {
        "id": "gw3pWhC78ZbX"
      },
      "execution_count": null,
      "outputs": []
    }
  ],
  "metadata": {
    "accelerator": "GPU",
    "colab": {
      "collapsed_sections": [
        "jgBAf2baGu-4",
        "hziqLq7lhURM",
        "2jHE2jczhgSb",
        "DwcVP74rG0CN",
        "cqx7uPsFhYN5",
        "p_QntAJrhejj",
        "Arw3NxXCG2X0",
        "WfZxHv2MhZlj",
        "vnTwg1wsha0s",
        "BKpwr1Z2Buhh",
        "MKhJqfotBxQR",
        "JqRkENYGW2pe"
      ],
      "provenance": [],
      "include_colab_link": true
    },
    "kernelspec": {
      "display_name": "Python 3",
      "name": "python3"
    },
    "language_info": {
      "name": "python"
    }
  },
  "nbformat": 4,
  "nbformat_minor": 0
}